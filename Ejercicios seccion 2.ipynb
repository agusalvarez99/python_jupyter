{
 "cells": [
  {
   "cell_type": "code",
   "execution_count": 1,
   "id": "2f74d8a5",
   "metadata": {
    "scrolled": true
   },
   "outputs": [
    {
     "name": "stdout",
     "output_type": "stream",
     "text": [
      "Agustin tiene 23 años!\n"
     ]
    }
   ],
   "source": [
    "edad = 23\n",
    "print(f\"Agustin tiene {edad} años!\")"
   ]
  },
  {
   "cell_type": "code",
   "execution_count": 7,
   "id": "bc8e5ad3",
   "metadata": {
    "scrolled": true
   },
   "outputs": [
    {
     "data": {
      "text/plain": [
       "'23'"
      ]
     },
     "execution_count": 7,
     "metadata": {},
     "output_type": "execute_result"
    }
   ],
   "source": [
    "edad_cadena = str(edad)\n",
    "edad_cadena"
   ]
  },
  {
   "cell_type": "code",
   "execution_count": 8,
   "id": "594e1d7c",
   "metadata": {},
   "outputs": [
    {
     "data": {
      "text/plain": [
       "str"
      ]
     },
     "execution_count": 8,
     "metadata": {},
     "output_type": "execute_result"
    }
   ],
   "source": [
    "type(edad_cadena)"
   ]
  },
  {
   "cell_type": "code",
   "execution_count": 9,
   "id": "4bdc3724",
   "metadata": {},
   "outputs": [
    {
     "name": "stdout",
     "output_type": "stream",
     "text": [
      "Agustin tendra 36 años en el 2035!\n"
     ]
    }
   ],
   "source": [
    "edad_futuro = edad + 13\n",
    "print(f\"Agustin tendra {edad_futuro} años en el 2035!\")"
   ]
  },
  {
   "cell_type": "code",
   "execution_count": null,
   "id": "10187551",
   "metadata": {},
   "outputs": [],
   "source": []
  },
  {
   "cell_type": "code",
   "execution_count": 10,
   "id": "ad6053b6",
   "metadata": {},
   "outputs": [],
   "source": [
    "cadena = \"azebaC ellehciM , 01\""
   ]
  },
  {
   "cell_type": "code",
   "execution_count": 27,
   "id": "aec09b33",
   "metadata": {},
   "outputs": [
    {
     "data": {
      "text/plain": [
       "'10 , Michelle Cabeza'"
      ]
     },
     "execution_count": 27,
     "metadata": {},
     "output_type": "execute_result"
    }
   ],
   "source": [
    "cadena_volteada = cadena[::-1]\n",
    "cadena_volteada"
   ]
  },
  {
   "cell_type": "code",
   "execution_count": 37,
   "id": "e114fba9",
   "metadata": {},
   "outputs": [
    {
     "name": "stdout",
     "output_type": "stream",
     "text": [
      " Michelle Cabeza ha sacado un 10\n"
     ]
    }
   ],
   "source": [
    "print(cadena_volteada[4::], \"ha sacado un\", cadena_volteada[0:2:1])"
   ]
  },
  {
   "cell_type": "code",
   "execution_count": null,
   "id": "c9a82f7a",
   "metadata": {},
   "outputs": [],
   "source": []
  },
  {
   "cell_type": "code",
   "execution_count": 42,
   "id": "a7928ee3",
   "metadata": {
    "scrolled": true
   },
   "outputs": [
    {
     "name": "stdout",
     "output_type": "stream",
     "text": [
      "Ingrese el texto: aa\n"
     ]
    }
   ],
   "source": [
    "texto = input(\"Ingrese el texto: \")"
   ]
  },
  {
   "cell_type": "code",
   "execution_count": 43,
   "id": "0f920381",
   "metadata": {},
   "outputs": [
    {
     "name": "stdout",
     "output_type": "stream",
     "text": [
      "La cadena cumple los requisitos?\n",
      "False\n"
     ]
    }
   ],
   "source": [
    "resultado = len(texto)>=3 and len(texto)<=12\n",
    "print(\"La cadena cumple los requisitos?\")\n",
    "print(resultado)"
   ]
  },
  {
   "cell_type": "code",
   "execution_count": 48,
   "id": "d9850205",
   "metadata": {},
   "outputs": [
    {
     "name": "stdout",
     "output_type": "stream",
     "text": [
      "Ingrese el primer numero: 2\n",
      "Ingrese el segundo numero: 1\n"
     ]
    }
   ],
   "source": [
    "nro_1 = float(input(\"Ingrese el primer numero: \"))\n",
    "nro_2 = float(input(\"Ingrese el segundo numero: \"))"
   ]
  },
  {
   "cell_type": "code",
   "execution_count": 49,
   "id": "e2d08446",
   "metadata": {},
   "outputs": [
    {
     "name": "stdout",
     "output_type": "stream",
     "text": [
      "Son iguales? False\n",
      "Son distintos? True\n",
      "Primero > segundo? True\n",
      "Segundo >= primero? False\n"
     ]
    }
   ],
   "source": [
    "print(\"Son iguales?\", nro_1 == nro_2)\n",
    "print(\"Son distintos?\", nro_1 != nro_2)\n",
    "print(\"Primero > segundo?\", nro_1 > nro_2)\n",
    "print(\"Segundo >= primero?\", nro_2 >= nro_1)"
   ]
  },
  {
   "cell_type": "code",
   "execution_count": null,
   "id": "78a7b4b6",
   "metadata": {},
   "outputs": [],
   "source": []
  }
 ],
 "metadata": {
  "kernelspec": {
   "display_name": "Python 3 (ipykernel)",
   "language": "python",
   "name": "python3"
  },
  "language_info": {
   "codemirror_mode": {
    "name": "ipython",
    "version": 3
   },
   "file_extension": ".py",
   "mimetype": "text/x-python",
   "name": "python",
   "nbconvert_exporter": "python",
   "pygments_lexer": "ipython3",
   "version": "3.9.12"
  }
 },
 "nbformat": 4,
 "nbformat_minor": 5
}

{
 "cells": [
  {
   "cell_type": "markdown",
   "metadata": {},
   "source": [
    "<font color=Green>\n",
    "    \n",
    "# **5.1 Definir una función**\n",
    "\n",
    "</font>\n",
    "\n",
    "### Las funciones en Python, al igual que en el resto de lenguajes de programación, permiten reutilizar código. Una función podría considerarse como una variable que encierra un conjunto de instrucciones. Por lo tanto al llamar a una función lo que estamos haciendo es ordenar al programa para que ejecute un conjunto de instrucciones. Algunas características de las funciones en Python son:\n",
    "\n",
    "+ Se pueden crear en cualquier momento del programa.\n",
    "+ Su palabra reservada es `def`.\n",
    "+ Seguido de `def` viene el nombre de la función y entre paréntesis los argumentos de entrada.\n",
    "+ No es obligatorio que la función devuelva un valor, aunque se puede usando la palabra reservada `return`.\n",
    "+ Las variables declaradas dentro de una función son locales a esa función.\n",
    "+ Para declarar una variable dentro de una función, pero poder acceder desde fuera de la función, ésta se puede declarar como global (con global)"
   ]
  },
  {
   "cell_type": "code",
   "execution_count": 1,
   "metadata": {
    "scrolled": true
   },
   "outputs": [
    {
     "name": "stdout",
     "output_type": "stream",
     "text": [
      "Hola, esto se llama desde adentro de la función saludar()\n"
     ]
    }
   ],
   "source": [
    "def saludar():\n",
    "    print(\"Hola, esto se llama desde adentro de la función saludar()\")\n",
    "    \n",
    "saludar()"
   ]
  },
  {
   "cell_type": "code",
   "execution_count": 2,
   "metadata": {},
   "outputs": [
    {
     "name": "stdout",
     "output_type": "stream",
     "text": [
      "5 * 0 = 0\n",
      "5 * 1 = 5\n",
      "5 * 2 = 10\n",
      "5 * 3 = 15\n",
      "5 * 4 = 20\n",
      "5 * 5 = 25\n",
      "5 * 6 = 30\n",
      "5 * 7 = 35\n",
      "5 * 8 = 40\n",
      "5 * 9 = 45\n"
     ]
    }
   ],
   "source": [
    "def tabla_del_5():\n",
    "    for i in range(10):\n",
    "        print(f\"5 * {i} = {5*i}\")\n",
    "        \n",
    "tabla_del_5()"
   ]
  },
  {
   "cell_type": "markdown",
   "metadata": {},
   "source": [
    "<font color=#003d5c>\n",
    "    \n",
    "## _Scope_\n",
    "</font>\n",
    "\n",
    "### En Python cada nombre (los identificadores de variables, funciones, objetos, etc) tiene su _scope_ (alcance). El scope define el área de un programa en la cual puedes acceder a un nombre."
   ]
  },
  {
   "cell_type": "code",
   "execution_count": 3,
   "metadata": {},
   "outputs": [
    {
     "data": {
      "text/plain": [
       "10"
      ]
     },
     "execution_count": 3,
     "metadata": {},
     "output_type": "execute_result"
    }
   ],
   "source": [
    "def prueba():\n",
    "    n=10\n",
    "    return n\n",
    "\n",
    "prueba()\n"
   ]
  },
  {
   "cell_type": "code",
   "execution_count": 5,
   "metadata": {
    "scrolled": true
   },
   "outputs": [
    {
     "ename": "NameError",
     "evalue": "name 'n' is not defined",
     "output_type": "error",
     "traceback": [
      "\u001b[1;31m---------------------------------------------------------------------------\u001b[0m",
      "\u001b[1;31mNameError\u001b[0m                                 Traceback (most recent call last)",
      "Input \u001b[1;32mIn [5]\u001b[0m, in \u001b[0;36m<cell line: 1>\u001b[1;34m()\u001b[0m\n\u001b[1;32m----> 1\u001b[0m \u001b[43mn\u001b[49m\n",
      "\u001b[1;31mNameError\u001b[0m: name 'n' is not defined"
     ]
    }
   ],
   "source": [
    "n"
   ]
  },
  {
   "cell_type": "code",
   "execution_count": 7,
   "metadata": {},
   "outputs": [
    {
     "name": "stdout",
     "output_type": "stream",
     "text": [
      "10\n"
     ]
    }
   ],
   "source": [
    "n=10\n",
    "\n",
    "def prueba2():\n",
    "    print(n)\n",
    "    \n",
    "prueba2()"
   ]
  },
  {
   "cell_type": "code",
   "execution_count": null,
   "metadata": {},
   "outputs": [],
   "source": [
    "n"
   ]
  },
  {
   "cell_type": "code",
   "execution_count": 8,
   "metadata": {},
   "outputs": [
    {
     "name": "stdout",
     "output_type": "stream",
     "text": [
      "8\n"
     ]
    }
   ],
   "source": [
    "def test():\n",
    "    print(m)\n",
    "    \n",
    "m=8\n",
    "\n",
    "test()\n"
   ]
  },
  {
   "cell_type": "code",
   "execution_count": 9,
   "metadata": {},
   "outputs": [
    {
     "name": "stdout",
     "output_type": "stream",
     "text": [
      "5\n",
      "5\n",
      "10\n"
     ]
    }
   ],
   "source": [
    "def test():\n",
    "    o = 5   # Esta variable solamente existe dentro de la función\n",
    "    print(o)\n",
    "\n",
    "test()\n",
    "\n",
    "o = 10   #Esta variable abarca todo el proceso\n",
    "\n",
    "test()\n",
    "print(o)"
   ]
  },
  {
   "cell_type": "code",
   "execution_count": null,
   "metadata": {},
   "outputs": [],
   "source": []
  }
 ],
 "metadata": {
  "kernelspec": {
   "display_name": "Python 3 (ipykernel)",
   "language": "python",
   "name": "python3"
  },
  "language_info": {
   "codemirror_mode": {
    "name": "ipython",
    "version": 3
   },
   "file_extension": ".py",
   "mimetype": "text/x-python",
   "name": "python",
   "nbconvert_exporter": "python",
   "pygments_lexer": "ipython3",
   "version": "3.9.12"
  }
 },
 "nbformat": 4,
 "nbformat_minor": 4
}

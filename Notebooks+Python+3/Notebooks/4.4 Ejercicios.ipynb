{
 "cells": [
  {
   "cell_type": "markdown",
   "metadata": {},
   "source": [
    "<font color=Green>\n",
    "    \n",
    "# **4.4 Ejercicios**\n",
    "\n",
    "</font>\n",
    "\n",
    "### 1) Realiza un programa que lea dos números por teclado y permita elegir entre 3 opciones en un menú:\n",
    "+  Mostrar la suma de dos números\n",
    "+  Mostrar la resta de dos números (el primero menos el segundo)\n",
    "+  Mostrar la multiplicación de dos números\n",
    "### Si ingresamos una opción inválida, el programa informará que es incorrecto"
   ]
  },
  {
   "cell_type": "code",
   "execution_count": 6,
   "metadata": {},
   "outputs": [
    {
     "name": "stdout",
     "output_type": "stream",
     "text": [
      "Ingrese el primer numero: 15\n",
      "Ingrese el segundo numero: 10\n",
      "Elija la opcion que desea:\n",
      "    1 -- Suma de los numeros\n",
      "    2 -- Resta del primero menos el segundo\n",
      "    3 -- Producto de los numeros\n",
      "    4 -- Salir)\n",
      "Opcion deseada:1\n",
      "25.0\n",
      "Elija la opcion que desea:\n",
      "    1 -- Suma de los numeros\n",
      "    2 -- Resta del primero menos el segundo\n",
      "    3 -- Producto de los numeros\n",
      "    4 -- Salir)\n",
      "Opcion deseada:2\n",
      "5.0\n",
      "Elija la opcion que desea:\n",
      "    1 -- Suma de los numeros\n",
      "    2 -- Resta del primero menos el segundo\n",
      "    3 -- Producto de los numeros\n",
      "    4 -- Salir)\n",
      "Opcion deseada:3\n",
      "150.0\n",
      "Elija la opcion que desea:\n",
      "    1 -- Suma de los numeros\n",
      "    2 -- Resta del primero menos el segundo\n",
      "    3 -- Producto de los numeros\n",
      "    4 -- Salir)\n",
      "Opcion deseada:5\n",
      "Opcion no valida!\n",
      "Elija la opcion que desea:\n",
      "    1 -- Suma de los numeros\n",
      "    2 -- Resta del primero menos el segundo\n",
      "    3 -- Producto de los numeros\n",
      "    4 -- Salir)\n",
      "Opcion deseada:4\n"
     ]
    }
   ],
   "source": [
    "n1 = float(input(\"Ingrese el primer numero: \"))\n",
    "n2 = float(input(\"Ingrese el segundo numero: \"))\n",
    "\n",
    "while(True):\n",
    "    print(\"\"\"Elija la opcion que desea:\n",
    "    1 -- Suma de los numeros\n",
    "    2 -- Resta del primero menos el segundo\n",
    "    3 -- Producto de los numeros\n",
    "    4 -- Salir)\"\"\")\n",
    "    opcion = input(\"Opcion deseada:\" )\n",
    "    if opcion == \"1\":\n",
    "          print(n1+n2)\n",
    "    elif opcion == \"2\":\n",
    "          print(n1-n2)\n",
    "    elif opcion == \"3\":\n",
    "          print(n1*n2)\n",
    "    elif opcion == \"4\":\n",
    "          break\n",
    "    else:\n",
    "          print(\"Opcion no valida!\")\n",
    "          "
   ]
  },
  {
   "cell_type": "code",
   "execution_count": null,
   "metadata": {},
   "outputs": [],
   "source": []
  },
  {
   "cell_type": "code",
   "execution_count": 4,
   "metadata": {},
   "outputs": [
    {
     "name": "stdout",
     "output_type": "stream",
     "text": [
      "Introduce un número: \n",
      "4\n",
      "Introduce otro número: \n",
      "2\n",
      "¿Qué quieres hacer?\n",
      "[1] Sumar los dos números\n",
      "[2] Restar los dos números\n",
      "[3] Multiplicar los dos números\n",
      "Ingresa una opción: \n",
      "2\n",
      "La resta de 4.0 - 2.0 es 2.0\n"
     ]
    }
   ],
   "source": [
    "n_1 = float(input(\"Introduce un número: \\n\"))\n",
    "n_2 = float(input(\"Introduce otro número: \\n\"))\n",
    "\n",
    "print(\"¿Qué quieres hacer?\")\n",
    "print(\"[1] Sumar los dos números\")\n",
    "print(\"[2] Restar los dos números\")\n",
    "print(\"[3] Multiplicar los dos números\")\n",
    "\n",
    "opcion = input(\"Ingresa una opción: \\n\")\n",
    "\n",
    "if opcion == \"1\":\n",
    "    print(f\"La suma de {n_1} + {n_2} es {n_1+n_2}\")\n",
    "elif opcion == \"2\":\n",
    "    print(f\"La resta de {n_1} - {n_2} es {n_1-n_2}\")\n",
    "elif opcion == \"3\":\n",
    "    print(f\"El producto de {n_1} * {n_2} es {n_1*n_2}\")    \n",
    "else:\n",
    "    print(\"La opción ingresada es inválida\")"
   ]
  },
  {
   "cell_type": "markdown",
   "metadata": {},
   "source": [
    "### 2) Dada una lista de *strings* (cadenas de caracteres), haga un programa que devuelva:\n",
    "+ El número de strings que tienen una longitud de 2 o más caracteres, y cuyo primer y último caracter son iguales.\n",
    "+ Una lista nueva con solo estos strings."
   ]
  },
  {
   "cell_type": "code",
   "execution_count": 11,
   "metadata": {},
   "outputs": [
    {
     "name": "stdout",
     "output_type": "stream",
     "text": [
      "La cantidad de palabras 1 \n",
      "La lista nueva es ['tarot']\n"
     ]
    }
   ],
   "source": [
    "lista = ['agustin', 'melisa', 'a', 'b', 'tarot']\n",
    "listaNueva = []\n",
    "\n",
    "cantPalabras = 0\n",
    "\n",
    "for palabra in lista:\n",
    "    if len(palabra) >= 2 and palabra[0]==palabra[-1]:\n",
    "        cantPalabras += 1\n",
    "        listaNueva.append(palabra)\n",
    "print(f\"\"\"La cantidad de palabras {cantPalabras} \n",
    "La lista nueva es {listaNueva}\"\"\")\n"
   ]
  },
  {
   "cell_type": "code",
   "execution_count": null,
   "metadata": {},
   "outputs": [],
   "source": []
  },
  {
   "cell_type": "code",
   "execution_count": 5,
   "metadata": {},
   "outputs": [
    {
     "data": {
      "text/plain": [
       "(3, ['avila', 'este', 'narracion'])"
      ]
     },
     "execution_count": 5,
     "metadata": {},
     "output_type": "execute_result"
    }
   ],
   "source": [
    "lista = ['avila', 'cafe', 'este', 'narracion', 'buda', 'extra', 'salida']\n",
    "\n",
    "lista2 = []\n",
    "suma = 0\n",
    "for item in lista:\n",
    "    if(len(item) >= 2 and (item[0] == item[-1])):\n",
    "        suma += 1\n",
    "        lista2.append(item)\n",
    "\n",
    "suma, lista2"
   ]
  },
  {
   "cell_type": "markdown",
   "metadata": {},
   "source": [
    "### 3) Realiza un programa que pida un número impar. Si el usuario no ingresa un número impar, debe repetirse el proceso hasta que ingrese un número válido"
   ]
  },
  {
   "cell_type": "code",
   "execution_count": 12,
   "metadata": {},
   "outputs": [
    {
     "name": "stdout",
     "output_type": "stream",
     "text": [
      "Ingrese un numero impar, por favor: 2\n",
      "Ingrese un numero impar, por favor: 5\n",
      "Gracias, ha finalizado el programa!\n"
     ]
    }
   ],
   "source": [
    "opcion = 0\n",
    "while(opcion % 2 == 0):\n",
    "    opcion = float(input(\"Ingrese un numero impar, por favor: \"))\n",
    "print(\"Gracias, ha finalizado el programa!\")"
   ]
  },
  {
   "cell_type": "code",
   "execution_count": null,
   "metadata": {},
   "outputs": [],
   "source": []
  },
  {
   "cell_type": "code",
   "execution_count": 7,
   "metadata": {},
   "outputs": [
    {
     "name": "stdout",
     "output_type": "stream",
     "text": [
      "Introduce un número impar:2\n",
      "Introduce un número impar:5\n"
     ]
    }
   ],
   "source": [
    "while (True):\n",
    "    numero = int(input(\"Introduce un número impar:\"))\n",
    "    if (numero % 2 != 0):\n",
    "        break"
   ]
  },
  {
   "cell_type": "markdown",
   "metadata": {},
   "source": [
    "### 4) Realiza un programa que sume todos los números enteros pares desde el 0 hasta el 100\n",
    "\n",
    "<font color=#003d5c>\n",
    "    \n",
    "> PROTIP: utilizar funciones sum() y range(). El tercer parámetro de range(inicio, fin, salto) indica el incremento entre los valores del rango\n",
    "    \n",
    "</font> "
   ]
  },
  {
   "cell_type": "code",
   "execution_count": 20,
   "metadata": {},
   "outputs": [
    {
     "data": {
      "text/plain": [
       "2550"
      ]
     },
     "execution_count": 20,
     "metadata": {},
     "output_type": "execute_result"
    }
   ],
   "source": [
    "numeros = range(0,101,2)\n",
    "suma = sum(numeros)\n",
    "suma"
   ]
  },
  {
   "cell_type": "code",
   "execution_count": null,
   "metadata": {},
   "outputs": [],
   "source": []
  },
  {
   "cell_type": "code",
   "execution_count": 8,
   "metadata": {},
   "outputs": [
    {
     "data": {
      "text/plain": [
       "2550"
      ]
     },
     "execution_count": 8,
     "metadata": {},
     "output_type": "execute_result"
    }
   ],
   "source": [
    "# Solución 1:\n",
    "# Utilizando la función range(0,101,2)\n",
    "\n",
    "sum(list(range(0,101,2)))\n"
   ]
  },
  {
   "cell_type": "code",
   "execution_count": 9,
   "metadata": {},
   "outputs": [
    {
     "name": "stdout",
     "output_type": "stream",
     "text": [
      "2550\n"
     ]
    }
   ],
   "source": [
    "# Solución 2\n",
    "# Utilizando bucles\n",
    "\n",
    "num=0\n",
    "suma=0\n",
    "\n",
    "while num <= 100:\n",
    "    if (num % 2 == 0):   ## Condición que se cumple\n",
    "        suma += num\n",
    "    num += 1\n",
    "    \n",
    "print(suma)"
   ]
  },
  {
   "cell_type": "markdown",
   "metadata": {},
   "source": [
    "### 5) Realiza un programa que pregunte al usuario cuántos números quiere introducir. Luego debe leer todos los números y obtener la media aritmética:"
   ]
  },
  {
   "cell_type": "code",
   "execution_count": 2,
   "metadata": {},
   "outputs": [
    {
     "name": "stdout",
     "output_type": "stream",
     "text": [
      "Ingrese la cantidad de numeros que desea: 3\n",
      "Ingrese numero: 10\n",
      "Ingrese numero: 20\n",
      "Ingrese numero: 30\n",
      "20.0\n"
     ]
    }
   ],
   "source": [
    "cantNum = int(input(\"Ingrese la cantidad de numeros que desea: \"))\n",
    "sum = 0\n",
    "for i in range(cantNum):\n",
    "    num = float(input(\"Ingrese numero: \"))\n",
    "    sum += num\n",
    "media=sum/cantNum\n",
    "print(media)"
   ]
  },
  {
   "cell_type": "code",
   "execution_count": null,
   "metadata": {},
   "outputs": [],
   "source": []
  },
  {
   "cell_type": "code",
   "execution_count": null,
   "metadata": {},
   "outputs": [],
   "source": []
  },
  {
   "cell_type": "code",
   "execution_count": 10,
   "metadata": {},
   "outputs": [
    {
     "name": "stdout",
     "output_type": "stream",
     "text": [
      "¿Cuántos números deseas ingresar?: \n",
      " \t4\n",
      "\n",
      " Introduce un número: \n",
      " \t2\n",
      "\n",
      " Introduce un número: \n",
      " \t4\n",
      "\n",
      " Introduce un número: \n",
      " \t7\n",
      "\n",
      " Introduce un número: \n",
      " \t2\n",
      "\n",
      " Se han introducido 4 números que en total suman 15.0.\n",
      " La media aritmética es 3.75.\n"
     ]
    }
   ],
   "source": [
    "cant_num = int(input(\"¿Cuántos números deseas ingresar?: \\n \\t\"))\n",
    "suma = 0\n",
    "\n",
    "for e in range(cant_num):\n",
    "    suma += float(input(\"\\n Introduce un número: \\n \\t\"))\n",
    "    \n",
    "print(f\"\\n Se han introducido {cant_num} números que en total suman {suma}.\\n La media aritmética es {suma/cant_num}.\")"
   ]
  },
  {
   "cell_type": "markdown",
   "metadata": {},
   "source": [
    "### 6) Realiza un programa que pida al usuario un número entero entre el 0 al 9, y que mientras el número no sea correcto se repite el proceso. Luego debe comprobar si el número se encuentra en la lista de números [0,1,3,5,8] y notificarlo:\n",
    "\n",
    "<font color=#003d5c>\n",
    "    \n",
    "> PROTIP: El comando _(**i IN lista**)_ evalúa la proposición lógica de si existe el elemento _i_ dentro del objeto _lista_\n",
    "    \n",
    "</font> \n"
   ]
  },
  {
   "cell_type": "code",
   "execution_count": 4,
   "metadata": {
    "scrolled": true
   },
   "outputs": [
    {
     "name": "stdout",
     "output_type": "stream",
     "text": [
      "Ingrese un numero entre 0 y 9: 5\n",
      "El numero se encuentra en la lista [0,1,3,5,8]\n"
     ]
    }
   ],
   "source": [
    "nro = 10\n",
    "while not(nro >= 0 and nro <= 9):\n",
    "        nro = int(input(\"Ingrese un numero entre 0 y 9: \"))\n",
    "lista = [0,1,3,5,8]\n",
    "if nro in lista:\n",
    "    print(\"El numero se encuentra en la lista [0,1,3,5,8]\")\n",
    "else:\n",
    "    print(\"El numero no se encuentra en la lista [0,1,3,5,8]\")\n"
   ]
  },
  {
   "cell_type": "code",
   "execution_count": null,
   "metadata": {},
   "outputs": [],
   "source": []
  },
  {
   "cell_type": "code",
   "execution_count": null,
   "metadata": {},
   "outputs": [],
   "source": []
  },
  {
   "cell_type": "code",
   "execution_count": 13,
   "metadata": {},
   "outputs": [
    {
     "name": "stdout",
     "output_type": "stream",
     "text": [
      "Ingrese un número del 0 al 9: \n",
      "3\n",
      "El número 3 se encuentra en la lista señalada [0, 1, 3, 5, 8]\n"
     ]
    }
   ],
   "source": [
    "lista_1 = [0,1,3,5,8]\n",
    "\n",
    "while (True):\n",
    "    numero = int(input(\"Ingrese un número del 0 al 9: \\n\"))\n",
    "    if numero >= 0 and numero <= 9:\n",
    "        break\n",
    "        \n",
    "if numero in lista_1:\n",
    "    print(f\"El número {numero} se encuentra en la lista señalada {lista_1}\")\n",
    "else:\n",
    "    print(\"El número\", numero, \"no se encuentra en la lista\")"
   ]
  },
  {
   "cell_type": "markdown",
   "metadata": {},
   "source": [
    "### 7) Utilizando la función range() y la conversión a listas, genera las siguientes listas dinámicamente:\n",
    "\n",
    "+ ### Todos los números del 0 al 10 [0, 1, ..., 10]\n",
    "+ ### Todos los números del -10 al 0 [-10, -9, -8, ..., 0]\n",
    "+ ### Todos los números pares entre el 0 al 20 [0, 2, 4, ..., 20]\n",
    "+ ### Todos los números impares entre el -20 al 0 [-19, -17, -15, ..., -1]\n",
    "+ ### Todos los números múltiplos de 5 del 0 al 50 [0, 5, 10, 15, ..., 50]"
   ]
  },
  {
   "cell_type": "code",
   "execution_count": 6,
   "metadata": {},
   "outputs": [
    {
     "name": "stdout",
     "output_type": "stream",
     "text": [
      "[0, 1, 2, 3, 4, 5, 6, 7, 8, 9, 10]\n"
     ]
    }
   ],
   "source": [
    "print(list(range(0,11)))"
   ]
  },
  {
   "cell_type": "code",
   "execution_count": 7,
   "metadata": {},
   "outputs": [
    {
     "name": "stdout",
     "output_type": "stream",
     "text": [
      "[-10, -9, -8, -7, -6, -5, -4, -3, -2, -1, 0]\n"
     ]
    }
   ],
   "source": [
    "print(list(range(-10,1)))"
   ]
  },
  {
   "cell_type": "code",
   "execution_count": 8,
   "metadata": {},
   "outputs": [
    {
     "name": "stdout",
     "output_type": "stream",
     "text": [
      "[0, 2, 4, 6, 8, 10, 12, 14, 16, 18, 20]\n"
     ]
    }
   ],
   "source": [
    "print(list(range(0,21,2)))"
   ]
  },
  {
   "cell_type": "code",
   "execution_count": 9,
   "metadata": {},
   "outputs": [
    {
     "name": "stdout",
     "output_type": "stream",
     "text": [
      "[-19, -17, -15, -13, -11, -9, -7, -5, -3, -1]\n"
     ]
    }
   ],
   "source": [
    "print(list(range(-19,1,2)))"
   ]
  },
  {
   "cell_type": "code",
   "execution_count": 10,
   "metadata": {},
   "outputs": [
    {
     "name": "stdout",
     "output_type": "stream",
     "text": [
      "[0, 5, 10, 15, 20, 25, 30, 35, 40, 45, 50]\n"
     ]
    }
   ],
   "source": [
    "print(list(range(0,51,5)))"
   ]
  },
  {
   "cell_type": "code",
   "execution_count": null,
   "metadata": {},
   "outputs": [],
   "source": []
  },
  {
   "cell_type": "code",
   "execution_count": 14,
   "metadata": {},
   "outputs": [
    {
     "name": "stdout",
     "output_type": "stream",
     "text": [
      " [0, 1, 2, 3, 4, 5, 6, 7, 8, 9, 10]\n",
      "\n",
      " [-10, -9, -8, -7, -6, -5, -4, -3, -2, -1, 0]\n",
      "\n",
      " [0, 2, 4, 6, 8, 10, 12, 14, 16, 18, 20]\n",
      "\n",
      " [-19, -17, -15, -13, -11, -9, -7, -5, -3, -1]\n",
      "\n",
      " [0, 5, 10, 15, 20, 25, 30, 35, 40, 45, 50]\n"
     ]
    }
   ],
   "source": [
    "# a:\n",
    "print (\"\", list(range(0,11)))\n",
    "\n",
    "# b:\n",
    "print (\"\\n\", list(range(-10,1)))\n",
    "\n",
    "# c:\n",
    "print (\"\\n\", list(range(0,21,2)))\n",
    "\n",
    "# d: \n",
    "print (\"\\n\", list(range(-19,0,2)))\n",
    "\n",
    "# e:\n",
    "print (\"\\n\", list(range(0,51,5)))"
   ]
  },
  {
   "cell_type": "markdown",
   "metadata": {},
   "source": [
    "### 8) Dadas dos listas, se debe generar una tercera lista con todos los elementos que se repitan en ellas, pero no debe repetir ningún elemento en la nueva lista."
   ]
  },
  {
   "cell_type": "code",
   "execution_count": 13,
   "metadata": {},
   "outputs": [
    {
     "name": "stdout",
     "output_type": "stream",
     "text": [
      "[3, 4, 5, 6]\n"
     ]
    }
   ],
   "source": [
    "lista1=[3,4,5,6]\n",
    "lista2=[3,4,5,6,7]\n",
    "lista3=[]\n",
    "\n",
    "for nro in lista1:\n",
    "    if nro in lista2 and nro not in lista3:\n",
    "        lista3.append(nro)\n",
    "\n",
    "print(lista3)"
   ]
  },
  {
   "cell_type": "code",
   "execution_count": null,
   "metadata": {},
   "outputs": [],
   "source": []
  },
  {
   "cell_type": "code",
   "execution_count": null,
   "metadata": {},
   "outputs": [],
   "source": []
  },
  {
   "cell_type": "code",
   "execution_count": 17,
   "metadata": {},
   "outputs": [
    {
     "name": "stdout",
     "output_type": "stream",
     "text": [
      "['', 'a', 'm', 'i', 'g', 'o']\n"
     ]
    }
   ],
   "source": [
    "lista_1 = [\"M\",\"i\",\"\",\"a\",\"m\",\"i\",\"g\",\"o\",\"\",\"G\",\"a\",\"l\",\"i\",\"l\",\"e\",\"o\"]\n",
    "\n",
    "lista_2 = [\"T\",\"u\",\"\",\"a\",\"m\",\"i\",\"g\",\"u\",\"i\",\"t\",\"o\"]\n",
    "\n",
    "lista_3 = []\n",
    "\n",
    "for letra in lista_2:\n",
    "    if (letra in lista_1) and (letra not in lista_3):\n",
    "        lista_3.append(letra)\n",
    "print(lista_3)"
   ]
  },
  {
   "cell_type": "code",
   "execution_count": null,
   "metadata": {},
   "outputs": [],
   "source": []
  }
 ],
 "metadata": {
  "kernelspec": {
   "display_name": "Python 3 (ipykernel)",
   "language": "python",
   "name": "python3"
  },
  "language_info": {
   "codemirror_mode": {
    "name": "ipython",
    "version": 3
   },
   "file_extension": ".py",
   "mimetype": "text/x-python",
   "name": "python",
   "nbconvert_exporter": "python",
   "pygments_lexer": "ipython3",
   "version": "3.9.12"
  }
 },
 "nbformat": 4,
 "nbformat_minor": 4
}

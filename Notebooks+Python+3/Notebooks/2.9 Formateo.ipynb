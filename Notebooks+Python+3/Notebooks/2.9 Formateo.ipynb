{
 "cells": [
  {
   "cell_type": "markdown",
   "metadata": {},
   "source": [
    "<font color=Green>\n",
    "    \n",
    "# 2.9 Formateo\n",
    "</font>\n"
   ]
  },
  {
   "cell_type": "code",
   "execution_count": 2,
   "metadata": {
    "scrolled": true
   },
   "outputs": [
    {
     "data": {
      "text/plain": [
       "'hola es el primer valor y 2 es el segundo'"
      ]
     },
     "execution_count": 2,
     "metadata": {},
     "output_type": "execute_result"
    }
   ],
   "source": [
    "'{} es el primer valor y {} es el segundo'.format('hola',2)"
   ]
  },
  {
   "cell_type": "code",
   "execution_count": 6,
   "metadata": {
    "scrolled": true
   },
   "outputs": [
    {
     "data": {
      "text/plain": [
       "'En este caso alteramos el orden y el perro aparece primero, luego el gato'"
      ]
     },
     "execution_count": 6,
     "metadata": {},
     "output_type": "execute_result"
    }
   ],
   "source": [
    "'En este caso alteramos el orden y el {0} aparece primero, luego el {1}'.format('perro','gato')"
   ]
  },
  {
   "cell_type": "code",
   "execution_count": 12,
   "metadata": {},
   "outputs": [
    {
     "name": "stdout",
     "output_type": "stream",
     "text": [
      "El valor de  la cartuja de parma es 0.7\n"
     ]
    }
   ],
   "source": [
    "nombre= 'la cartuja de parma'\n",
    "\n",
    "x= .7\n",
    "\n",
    "print('El valor de ', nombre , 'es', x) "
   ]
  },
  {
   "cell_type": "markdown",
   "metadata": {},
   "source": [
    "###  También podemos aplicar métodos"
   ]
  },
  {
   "cell_type": "code",
   "execution_count": 13,
   "metadata": {
    "scrolled": true
   },
   "outputs": [
    {
     "name": "stdout",
     "output_type": "stream",
     "text": [
      "El valor de La Cartuja De Parma \n",
      " es 0.7 dólares por el papel\n"
     ]
    }
   ],
   "source": [
    "print(f'El valor de {nombre.title()} \\n es', x, 'dólares por el papel')"
   ]
  },
  {
   "cell_type": "code",
   "execution_count": 19,
   "metadata": {},
   "outputs": [
    {
     "name": "stdout",
     "output_type": "stream",
     "text": [
      "{'uno': 1.7, 'dos': 1.2}\n"
     ]
    }
   ],
   "source": [
    "diccionario = {'uno': x + 1, 'dos': x.__add__(0.5)} ;\n",
    "\n",
    "print(diccionario); "
   ]
  },
  {
   "cell_type": "code",
   "execution_count": 20,
   "metadata": {},
   "outputs": [
    {
     "name": "stdout",
     "output_type": "stream",
     "text": [
      "La Cartuja De Parma cuesta 1.7 pesos \n",
      " y el otro libro 1.2 pesos.\n"
     ]
    }
   ],
   "source": [
    "print(f'{nombre.title()} cuesta {diccionario[\"uno\"]} pesos \\n y el otro libro {diccionario[\"dos\"]} pesos.')"
   ]
  },
  {
   "cell_type": "code",
   "execution_count": null,
   "metadata": {},
   "outputs": [],
   "source": []
  }
 ],
 "metadata": {
  "kernelspec": {
   "display_name": "Python 3 (ipykernel)",
   "language": "python",
   "name": "python3"
  },
  "language_info": {
   "codemirror_mode": {
    "name": "ipython",
    "version": 3
   },
   "file_extension": ".py",
   "mimetype": "text/x-python",
   "name": "python",
   "nbconvert_exporter": "python",
   "pygments_lexer": "ipython3",
   "version": "3.9.12"
  }
 },
 "nbformat": 4,
 "nbformat_minor": 4
}

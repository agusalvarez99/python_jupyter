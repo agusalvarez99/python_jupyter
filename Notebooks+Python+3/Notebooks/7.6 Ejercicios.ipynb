{
 "cells": [
  {
   "cell_type": "markdown",
   "metadata": {},
   "source": [
    "<font color=Green>\n",
    "    \n",
    "# **7.6 Ejercicios**\n",
    "\n",
    "</font>\n",
    "\n",
    "### Crea una clase llamada _Punto_ con sus dos coordenadas X y Y.\n",
    "+ Añade un método constructor para crear puntos, si no se recibe una coordenada, su valor será cero.\n",
    "+ Redefine el método string para que al imprimir por pantalla el punto aparezca en formato (X,Y)\n",
    "+ Define el método Cuadrante que indique a qué cuadrante pertenece el punto: \n",
    "<img src=\"https://robertoramirezblog.weebly.com/uploads/8/7/2/9/87295088/e70d9bdcdcab6e673b2c0356a02bdf6f_orig.jpg\">\n",
    "+ Define el método Vector, cuyos parámetros sean otro par de coordenadas y que calcule el vector que une los dos puntos.\n",
    "<img src=\"https://encrypted-tbn0.gstatic.com/images?q=tbn%3AANd9GcQGsL80EM7IlKq2eMT8Y98Niw8WvV14l54aag&usqp=CAU\">\n",
    "+ Define el método Distancia, cuyos parámetros sean otro par de coordenadas y que calcule la distancia entre los dos puntos y la muestre por pantalla. \n",
    "<img src=\"https://www.matesfacil.com/BAC/geometria2D/puntos/t6.png\">\n",
    "\n",
    "<font color=#003d5c>\n",
    "  \n",
    "> PROTIP: En Python, la función raíz cuadrada se debe importar del módulo math y se llama sqrt().\n",
    "</font>\n",
    "    "
   ]
  },
  {
   "cell_type": "code",
   "execution_count": 22,
   "metadata": {},
   "outputs": [
    {
     "name": "stdout",
     "output_type": "stream",
     "text": [
      "Se creó un punto nuevo de coordenadas ( 2 , 1 )\n",
      "Se creó un punto nuevo de coordenadas ( 3 , 2 )\n",
      "La distancia entre los vectores es de  1.4142135623730951\n"
     ]
    }
   ],
   "source": [
    "import math\n",
    "class Punto():\n",
    "    \n",
    "    def __init__(self, x=0, y=0):\n",
    "        self.x = x\n",
    "        self.y = y\n",
    "        print(\"Se creó un punto nuevo de coordenadas (\", x, \",\", y, \")\")\n",
    "    \n",
    "    def __str__(self):\n",
    "        return f\"({self.x},{self.y})\"\n",
    "    \n",
    "    def cuadrante(self):\n",
    "        if self.x > 0 and self.y > 0:\n",
    "            print(\"El punto se encuentra en el cuadrante 1\")\n",
    "        elif self.x < 0 and self.y > 0:\n",
    "            print(\"El punto se encuentra en el cuadrante 2\")\n",
    "        elif self.x < 0 and self.y < 0:\n",
    "            print(\"El punto se encuentra en el cuadrante 3\")\n",
    "        elif self.x > 0 and self.y < 0:\n",
    "            print(\"El punto se encuentra en el cuadrante 4\")\n",
    "        elif self.x == 0 and self.y != 0:\n",
    "            print(\"El punto se encuentra en el eje y\")\n",
    "        elif self.x != 0 and self.y == 0:\n",
    "            print(\"El punto se encuentra en el eje x\")\n",
    "        else:\n",
    "            print(\"El punto se encuentra en el origen de coordenadas\")\n",
    "\n",
    "    def vector(self, p):\n",
    "        c_x = p.x - self.x\n",
    "        c_y = p.y - self.y\n",
    "        print(\"El vector que los une tiene por coordenadas: (\", c_x, \",\", c_y, \")\")\n",
    "\n",
    "    def distancia(self,p):\n",
    "        d = math.sqrt((p.x - self.x)**2 + (p.y - self.y)**2)\n",
    "        print(\"La distancia entre los vectores es de \", d)\n",
    "    \n",
    "punto = Punto(2,1)\n",
    "#print(str(punto))\n",
    "#punto.cuadrante()\n",
    "punto_2 = Punto(3,2)\n",
    "#punto.vector(punto_2)\n",
    "punto.distancia(punto_2)"
   ]
  },
  {
   "cell_type": "code",
   "execution_count": null,
   "metadata": {},
   "outputs": [],
   "source": []
  },
  {
   "cell_type": "code",
   "execution_count": null,
   "metadata": {},
   "outputs": [],
   "source": [
    "import math\n",
    "\n",
    "class Punto:\n",
    "\n",
    "    def __init__(self,x=0,y=0):\n",
    "        self.x = x\n",
    "        self.y = y\n",
    "\n",
    "    def __str__(self):\n",
    "        return f\"({self.x}, {self.y})\"\n",
    "\n",
    "    def cuadrante(self):\n",
    "        if self.x > 0 and self.y > 0:\n",
    "            print(f\"{self} pertenece al primer cuadrante\")\n",
    "        elif self.x < 0 and self.y > 0:\n",
    "            print(f\"{self} pertenece al segundo cuadrante\")\n",
    "        elif self.x < 0 and self.y < 0:\n",
    "            print(f\"{self} pertenece al tercer cuadrante\")\n",
    "        elif self.x > 0 and self.y < 0:\n",
    "            print(f\"{self} pertenece al cuarto cuadrante\")\n",
    "            \n",
    "        # Si Y == 0, el punto se ubica sobre el eje X\n",
    "        elif self.x != 0 and self.y == 0:\n",
    "            print(f\"{self} se ubica sobre el eje X\")\n",
    "            \n",
    "        # Si X == 0, el punto se ubica sobre el eje Y    \n",
    "        elif self.x == 0 and self.y != 0:\n",
    "            print(f\"{self} se ubica sobre el eje Y\")\n",
    "            \n",
    "        # Si ambos son 0, el punto se ubica en el origen   \n",
    "        else:\n",
    "            print(f\"{self} se ubica en el origen\")\n",
    "\n",
    "    def vector(self, p):\n",
    "        print(f\"El vector que une los puntos {self} y {p} es igual a ({p.x-self.x}, {p.y-self.y})\")\n",
    "\n",
    "    def distancia(self, p):\n",
    "        mod = math.sqrt( (p.x - self.x)**2 + (p.y - self.y)**2 )\n",
    "        print(f\"La distancia entre los puntos {self} y {p} es {mod}\")"
   ]
  },
  {
   "cell_type": "code",
   "execution_count": null,
   "metadata": {},
   "outputs": [],
   "source": [
    "a = Punto(5,8)\n",
    "b = Punto(10,2)\n",
    "c = Punto(0,0)"
   ]
  },
  {
   "cell_type": "code",
   "execution_count": null,
   "metadata": {},
   "outputs": [],
   "source": [
    "str(c)"
   ]
  },
  {
   "cell_type": "code",
   "execution_count": null,
   "metadata": {},
   "outputs": [],
   "source": [
    "d=Punto(-8,4)\n",
    "d.cuadrante()"
   ]
  },
  {
   "cell_type": "code",
   "execution_count": null,
   "metadata": {},
   "outputs": [],
   "source": [
    "c.cuadrante()"
   ]
  },
  {
   "cell_type": "code",
   "execution_count": null,
   "metadata": {},
   "outputs": [],
   "source": [
    "a.vector(d)"
   ]
  },
  {
   "cell_type": "code",
   "execution_count": null,
   "metadata": {},
   "outputs": [],
   "source": [
    "a.distancia(d)"
   ]
  },
  {
   "cell_type": "markdown",
   "metadata": {},
   "source": [
    "### Crea una clase llamada _Rectangulo_ con dos puntos (inicial y final) que formarán la diagonal del rectángulo.\n",
    "+ Añade un método constructor para crear ambos puntos fácilmente, si no se envían se crearán dos puntos en el origen por defecto.\n",
    "+ Añade al rectángulo un método llamado Mostrar_base que muestre la base.\n",
    "+ Añade al rectángulo un método llamado Mostrar_altura que muestre la altura.\n",
    "+ Añade al rectángulo un método llamado Mostrar_area que muestre el area."
   ]
  },
  {
   "cell_type": "code",
   "execution_count": 30,
   "metadata": {},
   "outputs": [
    {
     "name": "stdout",
     "output_type": "stream",
     "text": [
      "Se creó un punto nuevo de coordenadas ( 0 , 0 )\n",
      "Se creó un punto nuevo de coordenadas ( 0 , 0 )\n",
      "Se creó un punto nuevo de coordenadas ( 1 , 1 )\n",
      "Se creó un punto nuevo de coordenadas ( 5 , 6 )\n",
      "La base del rectangulo es  4\n",
      "La altura del recatangulo es  5\n",
      "El area del rectangulo es  20\n"
     ]
    }
   ],
   "source": [
    "class Rectangulo:\n",
    "    def __init__(self, p_inicial = Punto(0,0), p_final = Punto(0,0)):\n",
    "        self.p_inicial = p_inicial\n",
    "        self.p_final = p_final\n",
    "        self.base = abs(p_final.x - p_inicial.x)\n",
    "        self.altura = abs(p_final.y - p_inicial.y)\n",
    "        self.area = self.base * self.altura\n",
    "\n",
    "    def mostrar_base(self):\n",
    "        print(\"La base del rectangulo es \", self.base)\n",
    "        \n",
    "    def mostrar_altura(self):\n",
    "        print(\"La altura del recatangulo es \", self.altura)\n",
    "        \n",
    "    def mostrar_area(self):\n",
    "        print(\"El area del rectangulo es \", self.area)\n",
    "\n",
    "punto = Punto(1,1)\n",
    "punto_2 = Punto(5,6)\n",
    "r = Rectangulo(punto, punto_2)\n",
    "r.mostrar_base()\n",
    "r.mostrar_altura()\n",
    "r.mostrar_area()\n"
   ]
  },
  {
   "cell_type": "code",
   "execution_count": null,
   "metadata": {},
   "outputs": [],
   "source": []
  },
  {
   "cell_type": "code",
   "execution_count": 25,
   "metadata": {},
   "outputs": [
    {
     "name": "stdout",
     "output_type": "stream",
     "text": [
      "Se creó un punto nuevo de coordenadas ( 0 , 0 )\n",
      "Se creó un punto nuevo de coordenadas ( 0 , 0 )\n"
     ]
    }
   ],
   "source": [
    "class Rectangulo:\n",
    "\n",
    "    def __init__(self, inicio=Punto(0,0), final=Punto(0,0)):\n",
    "        self.inicio = inicio\n",
    "        self.final = final\n",
    "        self.base = abs(self.final.x - self.inicio.x)\n",
    "        self.altura = abs(self.final.y - self.inicio.y)\n",
    "        self.area = self.base * self.altura\n",
    "\n",
    "    def mostrar_base(self):\n",
    "        print(f\"La base del rectángulo es {self.base}\")\n",
    "\n",
    "    def mostrar_altura(self):\n",
    "        print(f\"La altura del rectángulo es {self.altura}\")\n",
    "\n",
    "    def mostrar_area(self):\n",
    "        print(f\"El área del rectángulo es {self.area}\")"
   ]
  },
  {
   "cell_type": "code",
   "execution_count": 26,
   "metadata": {},
   "outputs": [
    {
     "ename": "NameError",
     "evalue": "name 'a' is not defined",
     "output_type": "error",
     "traceback": [
      "\u001b[1;31m---------------------------------------------------------------------------\u001b[0m",
      "\u001b[1;31mNameError\u001b[0m                                 Traceback (most recent call last)",
      "Input \u001b[1;32mIn [26]\u001b[0m, in \u001b[0;36m<cell line: 1>\u001b[1;34m()\u001b[0m\n\u001b[1;32m----> 1\u001b[0m rec \u001b[38;5;241m=\u001b[39m Rectangulo(\u001b[43ma\u001b[49m,c)\n",
      "\u001b[1;31mNameError\u001b[0m: name 'a' is not defined"
     ]
    }
   ],
   "source": [
    "rec = Rectangulo(a,c)"
   ]
  },
  {
   "cell_type": "code",
   "execution_count": null,
   "metadata": {},
   "outputs": [],
   "source": [
    "rec.mostrar_area()"
   ]
  },
  {
   "cell_type": "code",
   "execution_count": null,
   "metadata": {},
   "outputs": [],
   "source": [
    "rec.mostrar_altura()"
   ]
  },
  {
   "cell_type": "code",
   "execution_count": null,
   "metadata": {},
   "outputs": [],
   "source": [
    "rec.mostrar_base()"
   ]
  },
  {
   "cell_type": "code",
   "execution_count": null,
   "metadata": {},
   "outputs": [],
   "source": []
  }
 ],
 "metadata": {
  "kernelspec": {
   "display_name": "Python 3 (ipykernel)",
   "language": "python",
   "name": "python3"
  },
  "language_info": {
   "codemirror_mode": {
    "name": "ipython",
    "version": 3
   },
   "file_extension": ".py",
   "mimetype": "text/x-python",
   "name": "python",
   "nbconvert_exporter": "python",
   "pygments_lexer": "ipython3",
   "version": "3.9.12"
  }
 },
 "nbformat": 4,
 "nbformat_minor": 4
}
